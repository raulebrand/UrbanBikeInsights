{
 "cells": [
  {
   "cell_type": "code",
   "execution_count": 1,
   "id": "3235cbbd",
   "metadata": {},
   "outputs": [],
   "source": [
    "#Import libraries\n",
    "import pandas as pd\n",
    "import numpy as np\n",
    "import os\n",
    "import matplotlib.pyplot as plt"
   ]
  },
  {
   "cell_type": "code",
   "execution_count": 2,
   "id": "a5b60f2b",
   "metadata": {},
   "outputs": [],
   "source": [
    "#creating path to import the files\n",
    "path = r'C:\\Users\\rbrand\\New York Citi Bikes'"
   ]
  },
  {
   "cell_type": "code",
   "execution_count": 4,
   "id": "821d197a",
   "metadata": {},
   "outputs": [],
   "source": [
    "#Importing cb_clean_data.csv data set from prepared data.\n",
    "cb_clean_data = pd.read_csv(os.path.join(path, 'Data', 'Prepared Data', 'cb_clean_data.csv'), index_col=False)"
   ]
  },
  {
   "cell_type": "markdown",
   "id": "7fff1cff",
   "metadata": {},
   "source": [
    "We are going to proceed with a basic understanding of the data with the following analysis:\n",
    "    -1.Variable definitions: Where understanding the meaing of each variable in the dataset is important for the analysis (numerical, categorical, datim), values, and any units of measurements.\n",
    "    -2. Data Structure: Checkign the same of the dataset (number of rows and columns), and preview the first few rows to understand the structure and ofrmat of the data.\n",
    "    -3.Descriptive Statistics: Working on summary statistics for numerical variables (mean, median, standart deviation, min, max) to really understand the distribution. For categorical variables, we can count the frequency of each category..\n",
    "    -4.Visualizations: Creating a few visualizations to explore the distribution of numeral and categorical variables. "
   ]
  },
  {
   "cell_type": "code",
   "execution_count": 7,
   "id": "9d3bb093",
   "metadata": {},
   "outputs": [
    {
     "name": "stdout",
     "output_type": "stream",
     "text": [
      "Variable Definitions:\n",
      "Unnamed: 0                   int64\n",
      "trip_id                     object\n",
      "bike_id                      int64\n",
      "weekday                     object\n",
      "start_hour                   int64\n",
      "start_time                  object\n",
      "start_station_id             int64\n",
      "start_station_name          object\n",
      "start_station_latitude     float64\n",
      "start_station_longitude    float64\n",
      "end_time                    object\n",
      "end_station_id               int64\n",
      "end_station_name            object\n",
      "end_station_latitude       float64\n",
      "end_station_longitude      float64\n",
      "trip_duration                int64\n",
      "subscriber                  object\n",
      "birth_year                 float64\n",
      "gender                       int64\n",
      "trip_duration_minutes      float64\n",
      "dtype: object\n"
     ]
    }
   ],
   "source": [
    "#1.Reviewing the Variable Definitions\n",
    "# You can print the column names and their data types\n",
    "print(\"Variable Definitions:\")\n",
    "print(cb_clean_data.dtypes)"
   ]
  },
  {
   "cell_type": "markdown",
   "id": "cdf88beb",
   "metadata": {},
   "source": [
    "These variable definitions provide an overview of the columns in the dataset, their data types, and their potential meanings. The dataframe meet the minimum requirments to proceed with further analysis."
   ]
  },
  {
   "cell_type": "code",
   "execution_count": 8,
   "id": "a7d802c6",
   "metadata": {},
   "outputs": [
    {
     "name": "stdout",
     "output_type": "stream",
     "text": [
      "\n",
      "Dataset Shape: (50000, 20)\n",
      "\n",
      "First Few Rows:\n",
      "   Unnamed: 0 trip_id  bike_id weekday  start_hour       start_time  \\\n",
      "0           0  LnQzQk    16013     Mon          18   9/9/2013 18:18   \n",
      "1           1  IL9boN    15230     Thu          18  9/12/2013 18:38   \n",
      "2           2  46clGB    17942     Wed          19  9/18/2013 19:44   \n",
      "3           3  v7vdFt    19683     Sat          11  9/28/2013 11:54   \n",
      "4           4  VGBsb5    18024     Sat          18   9/7/2013 18:08   \n",
      "\n",
      "   start_station_id       start_station_name  start_station_latitude  \\\n",
      "0               523          W 38 St & 8 Ave               40.754666   \n",
      "1               257  Lispenard St & Broadway               40.719392   \n",
      "2               479          9 Ave & W 45 St               40.760193   \n",
      "3               527          E 33 St & 1 Ave               40.743156   \n",
      "4               521          8 Ave & W 31 St               40.750450   \n",
      "\n",
      "   start_station_longitude         end_time  end_station_id  \\\n",
      "0               -73.991382   9/9/2013 18:35             334   \n",
      "1               -74.002472  9/12/2013 18:48             236   \n",
      "2               -73.991255  9/18/2013 19:50             513   \n",
      "3               -73.974347  9/28/2013 12:03             441   \n",
      "4               -73.994811   9/7/2013 18:46             476   \n",
      "\n",
      "      end_station_name  end_station_latitude  end_station_longitude  \\\n",
      "0      W 20 St & 7 Ave             40.742388             -73.997262   \n",
      "1  St Marks Pl & 2 Ave             40.728419             -73.987140   \n",
      "2     W 56 St & 10 Ave             40.768254             -73.988639   \n",
      "3      E 52 St & 2 Ave             40.756014             -73.967416   \n",
      "4      E 31 St & 3 Ave             40.743943             -73.979661   \n",
      "\n",
      "   trip_duration      subscriber  birth_year  gender  trip_duration_minutes  \n",
      "0            993      Subscriber      1968.0       2              16.550000  \n",
      "1            581      Subscriber      1983.0       1               9.683333  \n",
      "2            361      Subscriber      1989.0       1               6.016667  \n",
      "3            561      Subscriber      1988.0       2               9.350000  \n",
      "4           2296  Non-Subscriber      1978.0       1              38.266667  \n"
     ]
    }
   ],
   "source": [
    "#2.Exploring the data structure\n",
    "print(\"\\nDataset Shape:\", cb_clean_data.shape)\n",
    "print(\"\\nFirst Few Rows:\")\n",
    "print(cb_clean_data.head())"
   ]
  },
  {
   "cell_type": "code",
   "execution_count": 9,
   "id": "5b093074",
   "metadata": {},
   "outputs": [
    {
     "name": "stdout",
     "output_type": "stream",
     "text": [
      "\n",
      "Summary Statistics for Numerical Variables:\n",
      "         Unnamed: 0       bike_id    start_hour  start_station_id  \\\n",
      "count  50000.000000  50000.000000  50000.000000      50000.000000   \n",
      "mean   24999.500000  17615.269360     14.145240        443.321500   \n",
      "std    14433.901067   1675.407446      4.860541        356.559925   \n",
      "min        0.000000  14556.000000      0.000000         72.000000   \n",
      "25%    12499.750000  16188.000000     10.000000        304.000000   \n",
      "50%    24999.500000  17584.000000     15.000000        402.000000   \n",
      "75%    37499.250000  19014.000000     18.000000        484.000000   \n",
      "max    49999.000000  20642.000000     23.000000       3002.000000   \n",
      "\n",
      "       start_station_latitude  start_station_longitude  end_station_id  \\\n",
      "count            50000.000000             50000.000000    50000.000000   \n",
      "mean                40.734170               -73.991109      442.539700   \n",
      "std                  0.019911                 0.012555      355.756022   \n",
      "min                 40.680342               -74.017134       72.000000   \n",
      "25%                 40.720196               -74.000271      304.000000   \n",
      "50%                 40.735877               -73.990765      402.000000   \n",
      "75%                 40.750020               -73.981923      483.000000   \n",
      "max                 40.770513               -73.950048     3002.000000   \n",
      "\n",
      "       end_station_latitude  end_station_longitude  trip_duration  \\\n",
      "count          50000.000000           50000.000000   50000.000000   \n",
      "mean              40.733859             -73.991351     838.982900   \n",
      "std                0.019885               0.012569     573.663997   \n",
      "min               40.680342             -74.017134      60.000000   \n",
      "25%               40.720196             -74.001547     417.000000   \n",
      "50%               40.735354             -73.991218     672.000000   \n",
      "75%               40.749013             -73.982050    1112.000000   \n",
      "max               40.770513             -73.950048    2697.000000   \n",
      "\n",
      "         birth_year        gender  trip_duration_minutes  \n",
      "count  50000.000000  50000.000000           50000.000000  \n",
      "mean    1975.958900      1.213160              13.983048  \n",
      "std       10.318811      0.409544               9.561067  \n",
      "min     1899.000000      1.000000               1.000000  \n",
      "25%     1970.000000      1.000000               6.950000  \n",
      "50%     1978.000000      1.000000              11.200000  \n",
      "75%     1983.000000      1.000000              18.533333  \n",
      "max     1997.000000      2.000000              44.950000  \n",
      "\n",
      "Frequency of Categories in Categorical Variables:\n",
      "weekday\n",
      "Mon    7715\n",
      "Sun    7319\n",
      "Fri    7309\n",
      "Wed    7228\n",
      "Tue    7065\n",
      "Thu    6857\n",
      "Sat    6507\n",
      "Name: count, dtype: int64\n"
     ]
    }
   ],
   "source": [
    "#3.Descriptive Statistics\n",
    "print(\"\\nSummary Statistics for Numerical Variables:\")\n",
    "print(cb_clean_data.describe())\n",
    "\n",
    "print(\"\\nFrequency of Categories in Categorical Variables:\")\n",
    "print(cb_clean_data['weekday'].value_counts())"
   ]
  },
  {
   "cell_type": "markdown",
   "id": "544f4fb3",
   "metadata": {},
   "source": [
    "- Trip Duration: The mean trip duration is approximately 839 seconds (about 13.98 minutes), with a standard deviation of approximately 574 seconds. The shortest trip duration is 60 seconds, while the longest is 2697 seconds. There seems to be some variability in trip durations, with a wide range of values.\n",
    "\n",
    "- Start and End Stations: The start and end station IDs indicate a range of stations used by the riders, with some stations appearing more frequently than others.\n",
    "\n",
    "- Start Hour: Most trips seem to start around midday, with a mean start hour of approximately 14:14 (2:14 PM). The standard deviation suggests some variability in the start times.\n",
    "\n",
    "- User Birth Year: The mean birth year of users is around 1976. The minimum birth year is 1899, and the maximum is 1997. There might be some outliers or errors in birth year data, considering the minimum birth year.(1899 needs to be cleaned)\n",
    "\n",
    "- Gender: The gender column shows that most users are coded as 1, with a smaller number coded as 2. This might indicate binary gender categories, with a potential outlier or error coded as 1.\n",
    "\n",
    "- Trip Duration in Minutes: After converting trip durations to minutes, the mean trip duration is approximately 13.98 minutes, with a standard deviation of approximately 9.56 minutes.\n",
    "\n",
    "Potential Areas to Tackle:\n",
    "\n",
    "- Outliers in Trip Duration: There may be some outliers in trip duration that could skew the analysis. These outliers could be investigated further to determine if they are valid data points or if they should be treated as errors.\n",
    "\n",
    "- Handling Missing or Incorrect Birth Years: The minimum birth year of 1899 seems unlikely and may indicate missing or incorrect data. Further investigation is needed to handle such cases, such as imputation or data validation.\n",
    "\n",
    "- Start and End Stations Analysis: Further analysis of the start and end stations' usage patterns could provide insights into popular routes or areas, potentially leading to improvements in bike availability or infrastructure.\n",
    "\n",
    "These are some potential areas to explore and tackle based on the descriptive statistics provided. I'm going to proceed with further analysis and a second data cleaning to ensure the accuracy and reliability of the dataset for subsequent analyses."
   ]
  },
  {
   "cell_type": "code",
   "execution_count": 23,
   "id": "fda9a31a",
   "metadata": {},
   "outputs": [
    {
     "name": "stdout",
     "output_type": "stream",
     "text": [
      "Median birth year: 1978.0\n"
     ]
    }
   ],
   "source": [
    "#Calculating the median birth year\n",
    "median_birth_year = cb_clean_data['birth_year'].median()\n",
    "print(\"Median birth year:\", median_birth_year)"
   ]
  },
  {
   "cell_type": "code",
   "execution_count": 27,
   "id": "beaf88df",
   "metadata": {},
   "outputs": [],
   "source": [
    "# Replacing incorrect birth years of 1899 with NaN\n",
    "cb_clean_data['birth_year'] = cb_clean_data['birth_year'].replace(1899, np.nan)"
   ]
  },
  {
   "cell_type": "code",
   "execution_count": 28,
   "id": "4f82313d",
   "metadata": {},
   "outputs": [],
   "source": [
    "# Replacing remaining NaN values with the median birth year\n",
    "cb_clean_data['birth_year'].fillna(median_birth_year, inplace=True)"
   ]
  },
  {
   "cell_type": "code",
   "execution_count": 29,
   "id": "2fbc31ec",
   "metadata": {},
   "outputs": [
    {
     "name": "stdout",
     "output_type": "stream",
     "text": [
      "count    50000.000000\n",
      "mean      1975.971540\n",
      "std         10.272815\n",
      "min       1900.000000\n",
      "25%       1970.000000\n",
      "50%       1978.000000\n",
      "75%       1983.000000\n",
      "max       1997.000000\n",
      "Name: birth_year, dtype: float64\n"
     ]
    }
   ],
   "source": [
    "# Verify the changes\n",
    "print(cb_clean_data['birth_year'].describe())"
   ]
  },
  {
   "cell_type": "code",
   "execution_count": 35,
   "id": "7fd9d812",
   "metadata": {},
   "outputs": [
    {
     "name": "stdout",
     "output_type": "stream",
     "text": [
      "563      1900.0\n",
      "1371     1900.0\n",
      "1754     1900.0\n",
      "7502     1900.0\n",
      "16252    1900.0\n",
      "18332    1900.0\n",
      "28568    1900.0\n",
      "40359    1900.0\n",
      "49684    1900.0\n",
      "1431     1901.0\n",
      "13081    1901.0\n",
      "17130    1901.0\n",
      "44309    1901.0\n",
      "48989    1901.0\n",
      "19824    1910.0\n",
      "27899    1917.0\n",
      "49185    1921.0\n",
      "306      1922.0\n",
      "3548     1922.0\n",
      "48755    1922.0\n",
      "40229    1924.0\n",
      "33470    1926.0\n",
      "22944    1929.0\n",
      "513      1932.0\n",
      "9646     1932.0\n",
      "12066    1932.0\n",
      "12309    1932.0\n",
      "27000    1932.0\n",
      "28777    1932.0\n",
      "35908    1932.0\n",
      "36325    1932.0\n",
      "43065    1932.0\n",
      "46465    1932.0\n",
      "3683     1933.0\n",
      "7804     1933.0\n",
      "8796     1933.0\n",
      "12233    1933.0\n",
      "47079    1933.0\n",
      "8998     1934.0\n",
      "26269    1934.0\n",
      "2650     1935.0\n",
      "7180     1935.0\n",
      "10618    1935.0\n",
      "11823    1935.0\n",
      "14243    1935.0\n",
      "15930    1935.0\n",
      "18016    1935.0\n",
      "26899    1935.0\n",
      "27347    1935.0\n",
      "29065    1935.0\n",
      "Name: birth_year, dtype: float64\n"
     ]
    }
   ],
   "source": [
    "# Displaying the first 50 minimum values of the birth_year column since we got another outliner year 1900 as min value.\n",
    "first_50_min_values = cb_clean_data['birth_year'].nsmallest(50)\n",
    "print(first_50_min_values)\n"
   ]
  },
  {
   "cell_type": "markdown",
   "id": "cdf33980",
   "metadata": {},
   "source": [
    "Looks like there are still some inconsistancies on the birth year.Let's set the earliest plausible birth year as 1943, assuming that the users must be not older than 70 years to participate in the bike sharing program. We'll replace any birth years earlier than 1943 with NaN."
   ]
  },
  {
   "cell_type": "code",
   "execution_count": 36,
   "id": "50af816a",
   "metadata": {},
   "outputs": [],
   "source": [
    "#Setting a threshold for the earliest plausible birth year\n",
    "earliest_plausible_birth_year = 1943"
   ]
  },
  {
   "cell_type": "code",
   "execution_count": 37,
   "id": "d695cd98",
   "metadata": {},
   "outputs": [],
   "source": [
    "# Replacing birth years earlier than the threshold with NaN\n",
    "cb_clean_data.loc[cb_clean_data['birth_year'] < earliest_plausible_birth_year, 'birth_year'] = np.nan"
   ]
  },
  {
   "cell_type": "code",
   "execution_count": 38,
   "id": "cda3d463",
   "metadata": {},
   "outputs": [],
   "source": [
    "# Replacing NaN values with the median birth year\n",
    "cb_clean_data['birth_year'].fillna(median_birth_year, inplace=True)"
   ]
  },
  {
   "cell_type": "code",
   "execution_count": 39,
   "id": "efeb44d8",
   "metadata": {},
   "outputs": [
    {
     "name": "stdout",
     "output_type": "stream",
     "text": [
      "count    50000.000000\n",
      "mean      1976.107060\n",
      "std          9.984958\n",
      "min       1943.000000\n",
      "25%       1970.000000\n",
      "50%       1978.000000\n",
      "75%       1983.000000\n",
      "max       1997.000000\n",
      "Name: birth_year, dtype: float64\n"
     ]
    }
   ],
   "source": [
    "# Verifying the changes\n",
    "print(cb_clean_data['birth_year'].describe())"
   ]
  },
  {
   "cell_type": "code",
   "execution_count": 40,
   "id": "3dc5ee72",
   "metadata": {},
   "outputs": [],
   "source": [
    "#Exporting cb_clean_data2. \n",
    "cb_clean_data.to_csv(os.path.join(path, 'Data', 'Prepared Data', 'cb_clean_data2.csv'))"
   ]
  },
  {
   "cell_type": "code",
   "execution_count": null,
   "id": "7533b28f",
   "metadata": {},
   "outputs": [],
   "source": []
  }
 ],
 "metadata": {
  "kernelspec": {
   "display_name": "Python 3 (ipykernel)",
   "language": "python",
   "name": "python3"
  },
  "language_info": {
   "codemirror_mode": {
    "name": "ipython",
    "version": 3
   },
   "file_extension": ".py",
   "mimetype": "text/x-python",
   "name": "python",
   "nbconvert_exporter": "python",
   "pygments_lexer": "ipython3",
   "version": "3.11.5"
  }
 },
 "nbformat": 4,
 "nbformat_minor": 5
}
