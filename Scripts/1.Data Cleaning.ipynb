{
 "cells": [
  {
   "cell_type": "code",
   "execution_count": 1,
   "id": "c6019266",
   "metadata": {},
   "outputs": [],
   "source": [
    "#Import libraries\n",
    "import pandas as pd\n",
    "import numpy as np\n",
    "import os"
   ]
  },
  {
   "cell_type": "code",
   "execution_count": 3,
   "id": "f5f59cd6",
   "metadata": {},
   "outputs": [],
   "source": [
    "#creating path to import the files\n",
    "path = r'C:\\Users\\rbrand\\New York Citi Bikes'"
   ]
  },
  {
   "cell_type": "code",
   "execution_count": 8,
   "id": "ca7ed289",
   "metadata": {},
   "outputs": [],
   "source": [
    "#Importing citibike.csv data set from original data.\n",
    "cb_original_data = pd.read_csv(os.path.join(path, 'Data', 'Original Data', 'citibike.csv'), index_col=False)"
   ]
  },
  {
   "cell_type": "code",
   "execution_count": 10,
   "id": "5dd788aa",
   "metadata": {},
   "outputs": [
    {
     "data": {
      "text/plain": [
       "(50000, 18)"
      ]
     },
     "execution_count": 10,
     "metadata": {},
     "output_type": "execute_result"
    }
   ],
   "source": [
    "#Reviwing dataframe consistency: \n",
    "cb_original_data.shape"
   ]
  },
  {
   "cell_type": "code",
   "execution_count": 12,
   "id": "2cf733ac",
   "metadata": {},
   "outputs": [
    {
     "data": {
      "text/html": [
       "<div>\n",
       "<style scoped>\n",
       "    .dataframe tbody tr th:only-of-type {\n",
       "        vertical-align: middle;\n",
       "    }\n",
       "\n",
       "    .dataframe tbody tr th {\n",
       "        vertical-align: top;\n",
       "    }\n",
       "\n",
       "    .dataframe thead th {\n",
       "        text-align: right;\n",
       "    }\n",
       "</style>\n",
       "<table border=\"1\" class=\"dataframe\">\n",
       "  <thead>\n",
       "    <tr style=\"text-align: right;\">\n",
       "      <th></th>\n",
       "      <th>trip_id</th>\n",
       "      <th>bike_id</th>\n",
       "      <th>weekday</th>\n",
       "      <th>start_hour</th>\n",
       "      <th>start_time</th>\n",
       "      <th>start_station_id</th>\n",
       "      <th>start_station_name</th>\n",
       "      <th>start_station_latitude</th>\n",
       "      <th>start_station_longitude</th>\n",
       "      <th>end_time</th>\n",
       "      <th>end_station_id</th>\n",
       "      <th>end_station_name</th>\n",
       "      <th>end_station_latitude</th>\n",
       "      <th>end_station_longitude</th>\n",
       "      <th>trip_duration</th>\n",
       "      <th>subscriber</th>\n",
       "      <th>birth_year</th>\n",
       "      <th>gender</th>\n",
       "    </tr>\n",
       "  </thead>\n",
       "  <tbody>\n",
       "    <tr>\n",
       "      <th>0</th>\n",
       "      <td>LnQzQk</td>\n",
       "      <td>16013</td>\n",
       "      <td>Mon</td>\n",
       "      <td>18</td>\n",
       "      <td>9/9/2013 18:18</td>\n",
       "      <td>523</td>\n",
       "      <td>W 38 St &amp; 8 Ave</td>\n",
       "      <td>40.754666</td>\n",
       "      <td>-73.991382</td>\n",
       "      <td>9/9/2013 18:35</td>\n",
       "      <td>334</td>\n",
       "      <td>W 20 St &amp; 7 Ave</td>\n",
       "      <td>40.742388</td>\n",
       "      <td>-73.997262</td>\n",
       "      <td>993</td>\n",
       "      <td>Subscriber</td>\n",
       "      <td>1968.0</td>\n",
       "      <td>2</td>\n",
       "    </tr>\n",
       "    <tr>\n",
       "      <th>1</th>\n",
       "      <td>IL9boN</td>\n",
       "      <td>15230</td>\n",
       "      <td>Thu</td>\n",
       "      <td>18</td>\n",
       "      <td>9/12/2013 18:38</td>\n",
       "      <td>257</td>\n",
       "      <td>Lispenard St &amp; Broadway</td>\n",
       "      <td>40.719392</td>\n",
       "      <td>-74.002472</td>\n",
       "      <td>9/12/2013 18:48</td>\n",
       "      <td>236</td>\n",
       "      <td>St Marks Pl &amp; 2 Ave</td>\n",
       "      <td>40.728419</td>\n",
       "      <td>-73.987140</td>\n",
       "      <td>581</td>\n",
       "      <td>Subscriber</td>\n",
       "      <td>1983.0</td>\n",
       "      <td>1</td>\n",
       "    </tr>\n",
       "    <tr>\n",
       "      <th>2</th>\n",
       "      <td>46clGB</td>\n",
       "      <td>17942</td>\n",
       "      <td>Wed</td>\n",
       "      <td>19</td>\n",
       "      <td>9/18/2013 19:44</td>\n",
       "      <td>479</td>\n",
       "      <td>9 Ave &amp; W 45 St</td>\n",
       "      <td>40.760193</td>\n",
       "      <td>-73.991255</td>\n",
       "      <td>9/18/2013 19:50</td>\n",
       "      <td>513</td>\n",
       "      <td>W 56 St &amp; 10 Ave</td>\n",
       "      <td>40.768254</td>\n",
       "      <td>-73.988639</td>\n",
       "      <td>361</td>\n",
       "      <td>Subscriber</td>\n",
       "      <td>1989.0</td>\n",
       "      <td>1</td>\n",
       "    </tr>\n",
       "    <tr>\n",
       "      <th>3</th>\n",
       "      <td>v7vdFt</td>\n",
       "      <td>19683</td>\n",
       "      <td>Sat</td>\n",
       "      <td>11</td>\n",
       "      <td>9/28/2013 11:54</td>\n",
       "      <td>527</td>\n",
       "      <td>E 33 St &amp; 1 Ave</td>\n",
       "      <td>40.743156</td>\n",
       "      <td>-73.974347</td>\n",
       "      <td>9/28/2013 12:03</td>\n",
       "      <td>441</td>\n",
       "      <td>E 52 St &amp; 2 Ave</td>\n",
       "      <td>40.756014</td>\n",
       "      <td>-73.967416</td>\n",
       "      <td>561</td>\n",
       "      <td>Subscriber</td>\n",
       "      <td>1988.0</td>\n",
       "      <td>2</td>\n",
       "    </tr>\n",
       "    <tr>\n",
       "      <th>4</th>\n",
       "      <td>VGBsb5</td>\n",
       "      <td>18024</td>\n",
       "      <td>Sat</td>\n",
       "      <td>18</td>\n",
       "      <td>9/7/2013 18:08</td>\n",
       "      <td>521</td>\n",
       "      <td>8 Ave &amp; W 31 St</td>\n",
       "      <td>40.750450</td>\n",
       "      <td>-73.994811</td>\n",
       "      <td>9/7/2013 18:46</td>\n",
       "      <td>476</td>\n",
       "      <td>E 31 St &amp; 3 Ave</td>\n",
       "      <td>40.743943</td>\n",
       "      <td>-73.979661</td>\n",
       "      <td>2296</td>\n",
       "      <td>Non-Subscriber</td>\n",
       "      <td>NaN</td>\n",
       "      <td>0</td>\n",
       "    </tr>\n",
       "  </tbody>\n",
       "</table>\n",
       "</div>"
      ],
      "text/plain": [
       "  trip_id  bike_id weekday  start_hour       start_time  start_station_id  \\\n",
       "0  LnQzQk    16013     Mon          18   9/9/2013 18:18               523   \n",
       "1  IL9boN    15230     Thu          18  9/12/2013 18:38               257   \n",
       "2  46clGB    17942     Wed          19  9/18/2013 19:44               479   \n",
       "3  v7vdFt    19683     Sat          11  9/28/2013 11:54               527   \n",
       "4  VGBsb5    18024     Sat          18   9/7/2013 18:08               521   \n",
       "\n",
       "        start_station_name  start_station_latitude  start_station_longitude  \\\n",
       "0          W 38 St & 8 Ave               40.754666               -73.991382   \n",
       "1  Lispenard St & Broadway               40.719392               -74.002472   \n",
       "2          9 Ave & W 45 St               40.760193               -73.991255   \n",
       "3          E 33 St & 1 Ave               40.743156               -73.974347   \n",
       "4          8 Ave & W 31 St               40.750450               -73.994811   \n",
       "\n",
       "          end_time  end_station_id     end_station_name  end_station_latitude  \\\n",
       "0   9/9/2013 18:35             334      W 20 St & 7 Ave             40.742388   \n",
       "1  9/12/2013 18:48             236  St Marks Pl & 2 Ave             40.728419   \n",
       "2  9/18/2013 19:50             513     W 56 St & 10 Ave             40.768254   \n",
       "3  9/28/2013 12:03             441      E 52 St & 2 Ave             40.756014   \n",
       "4   9/7/2013 18:46             476      E 31 St & 3 Ave             40.743943   \n",
       "\n",
       "   end_station_longitude  trip_duration      subscriber  birth_year  gender  \n",
       "0             -73.997262            993      Subscriber      1968.0       2  \n",
       "1             -73.987140            581      Subscriber      1983.0       1  \n",
       "2             -73.988639            361      Subscriber      1989.0       1  \n",
       "3             -73.967416            561      Subscriber      1988.0       2  \n",
       "4             -73.979661           2296  Non-Subscriber         NaN       0  "
      ]
     },
     "execution_count": 12,
     "metadata": {},
     "output_type": "execute_result"
    }
   ],
   "source": [
    "cb_original_data.head()"
   ]
  },
  {
   "cell_type": "code",
   "execution_count": 13,
   "id": "96150330",
   "metadata": {},
   "outputs": [
    {
     "name": "stdout",
     "output_type": "stream",
     "text": [
      "trip_id                       0\n",
      "bike_id                       0\n",
      "weekday                       0\n",
      "start_hour                    0\n",
      "start_time                    0\n",
      "start_station_id              0\n",
      "start_station_name            0\n",
      "start_station_latitude        0\n",
      "start_station_longitude       0\n",
      "end_time                      0\n",
      "end_station_id                0\n",
      "end_station_name              0\n",
      "end_station_latitude          0\n",
      "end_station_longitude         0\n",
      "trip_duration                 0\n",
      "subscriber                    0\n",
      "birth_year                 6979\n",
      "gender                        0\n",
      "dtype: int64\n"
     ]
    }
   ],
   "source": [
    "# Reviewing missing values\n",
    "missing_values = cb_original_data.isnull().sum()\n",
    "print(missing_values)"
   ]
  },
  {
   "cell_type": "code",
   "execution_count": 14,
   "id": "36addd79",
   "metadata": {},
   "outputs": [],
   "source": [
    "#Calculating the median of birth_year\n",
    "median_birth_year = cb_original_data['birth_year'].median()"
   ]
  },
  {
   "cell_type": "code",
   "execution_count": 16,
   "id": "16ca5f7a",
   "metadata": {},
   "outputs": [
    {
     "name": "stdout",
     "output_type": "stream",
     "text": [
      "Median birth year: 1978.0\n"
     ]
    }
   ],
   "source": [
    "# Print the median\n",
    "print(\"Median birth year:\", median_birth_year)"
   ]
  },
  {
   "cell_type": "code",
   "execution_count": 20,
   "id": "ee516cb1",
   "metadata": {},
   "outputs": [],
   "source": [
    "# Adding missing values with the median.\n",
    "cb_original_data['birth_year'].fillna(median_birth_year, inplace=True)"
   ]
  },
  {
   "cell_type": "code",
   "execution_count": 21,
   "id": "893fcdb9",
   "metadata": {},
   "outputs": [
    {
     "name": "stdout",
     "output_type": "stream",
     "text": [
      "trip_id                    0\n",
      "bike_id                    0\n",
      "weekday                    0\n",
      "start_hour                 0\n",
      "start_time                 0\n",
      "start_station_id           0\n",
      "start_station_name         0\n",
      "start_station_latitude     0\n",
      "start_station_longitude    0\n",
      "end_time                   0\n",
      "end_station_id             0\n",
      "end_station_name           0\n",
      "end_station_latitude       0\n",
      "end_station_longitude      0\n",
      "trip_duration              0\n",
      "subscriber                 0\n",
      "birth_year                 0\n",
      "gender                     0\n",
      "dtype: int64\n"
     ]
    }
   ],
   "source": [
    "#Double checking missing values\n",
    "missing_values = cb_original_data.isnull().sum()\n",
    "print(missing_values)"
   ]
  },
  {
   "cell_type": "code",
   "execution_count": 24,
   "id": "0bf6d9ca",
   "metadata": {},
   "outputs": [
    {
     "name": "stdout",
     "output_type": "stream",
     "text": [
      "Duplicate rows based on trip_id:\n",
      "Empty DataFrame\n",
      "Columns: [trip_id, bike_id, weekday, start_hour, start_time, start_station_id, start_station_name, start_station_latitude, start_station_longitude, end_time, end_station_id, end_station_name, end_station_latitude, end_station_longitude, trip_duration, subscriber, birth_year, gender]\n",
      "Index: []\n"
     ]
    }
   ],
   "source": [
    "#checking if there is any duplicates based on trip_id \n",
    "trip_id_duplicates = cb_original_data[cb_original_data.duplicated(subset=['trip_id'], keep=False)]\n",
    "\n",
    "# Print the duplicate rows based on trip_id\n",
    "print(\"Duplicate rows based on trip_id:\")\n",
    "print(trip_id_duplicates)"
   ]
  },
  {
   "cell_type": "markdown",
   "id": "59e7264b",
   "metadata": {},
   "source": [
    "It seems that there are no duplicate rows based on the trip_id column in the DataFrame. This indicates that each trip_id is unique in the dataset, which is a good sign for data integrity."
   ]
  },
  {
   "cell_type": "code",
   "execution_count": 26,
   "id": "015f7bbc",
   "metadata": {},
   "outputs": [
    {
     "name": "stdout",
     "output_type": "stream",
     "text": [
      "1\n"
     ]
    }
   ],
   "source": [
    "# Findign the most common value in the gender column\n",
    "most_common_gender = cb_original_data['gender'].mode()[0]\n",
    "print(most_common_gender)"
   ]
  },
  {
   "cell_type": "code",
   "execution_count": 27,
   "id": "0f328ea6",
   "metadata": {},
   "outputs": [],
   "source": [
    "# Replacing '0' values with the most common value (1)\n",
    "cb_original_data['gender'].replace(0, most_common_gender, inplace=True)"
   ]
  },
  {
   "cell_type": "code",
   "execution_count": 28,
   "id": "3b108b0e",
   "metadata": {},
   "outputs": [
    {
     "name": "stdout",
     "output_type": "stream",
     "text": [
      "Number of '0' values after replacement: 0\n"
     ]
    }
   ],
   "source": [
    "# Confirm that '0' values have been replaced\n",
    "count_0_values_after = (cb_original_data['gender'] == 0).sum()\n",
    "print(\"Number of '0' values after replacement:\", count_0_values_after)"
   ]
  },
  {
   "cell_type": "code",
   "execution_count": 31,
   "id": "6c7b85ae",
   "metadata": {},
   "outputs": [],
   "source": [
    "# Handling Incorrect Trip Durations\n",
    "# Converting trip duration from seconds to minutes for better interpretability\n",
    "cb_original_data['trip_duration_minutes'] = cb_original_data['trip_duration'] / 60"
   ]
  },
  {
   "cell_type": "code",
   "execution_count": 33,
   "id": "92280589",
   "metadata": {},
   "outputs": [],
   "source": [
    "# Remove outliers: Assuming realistic trips are between 1 minute and 24 hours (1440 minutes)\n",
    "cb_original_data = cb_original_data[(cb_original_data['trip_duration_minutes'] >= 1) & (cb_original_data['trip_duration_minutes'] <= 1440)]"
   ]
  },
  {
   "cell_type": "code",
   "execution_count": 34,
   "id": "41083f48",
   "metadata": {},
   "outputs": [
    {
     "name": "stdout",
     "output_type": "stream",
     "text": [
      "count    50000.000000\n",
      "mean        13.983048\n",
      "std          9.561067\n",
      "min          1.000000\n",
      "25%          6.950000\n",
      "50%         11.200000\n",
      "75%         18.533333\n",
      "max         44.950000\n",
      "Name: trip_duration_minutes, dtype: float64\n"
     ]
    }
   ],
   "source": [
    "# Checking summary statistics after cleaning\n",
    "summary_statistics = cb_original_data['trip_duration_minutes'].describe()\n",
    "print(summary_statistics)"
   ]
  },
  {
   "cell_type": "markdown",
   "id": "f0f463e5",
   "metadata": {},
   "source": [
    "It seems like the summary statistics for the trip_duration_minutes column after cleaning are as follows:\n",
    "\n",
    "- Count: 50,000 (indicating the number of non-null values after cleaning)\n",
    "- Mean: Approximately 13.98 minutes\n",
    "- Standard Deviation: Approximately 9.56 minutes\n",
    "- Minimum: 1 minute\n",
    "- 25th Percentile (Q1): Approximately 6.95 minutes\n",
    "- Median (50th Percentile or Q2): Approximately 11.20 minutes\n",
    "- 75th Percentile (Q3): Approximately 18.53 minutes\n",
    "- Maximum: 44.95 minutes\n",
    "\n",
    "These statistics provide valuable insights into the distribution of trip durations after cleaning. It appears that most trips have durations ranging from approximately 1 minute to 18.53 minutes, with some longer trips up to 44.95 minutes. This information can defintely guide me further analysis and decision-making regarding trip durations in your dataset."
   ]
  },
  {
   "cell_type": "code",
   "execution_count": 36,
   "id": "4f81b103",
   "metadata": {},
   "outputs": [],
   "source": [
    "#Exporting cb_clean_data. \n",
    "cb_original_data.to_csv(os.path.join(path, 'Data', 'Prepared Data', 'cb_clean_data.csv'))"
   ]
  },
  {
   "cell_type": "code",
   "execution_count": null,
   "id": "0212e7ce",
   "metadata": {},
   "outputs": [],
   "source": []
  }
 ],
 "metadata": {
  "kernelspec": {
   "display_name": "Python 3 (ipykernel)",
   "language": "python",
   "name": "python3"
  },
  "language_info": {
   "codemirror_mode": {
    "name": "ipython",
    "version": 3
   },
   "file_extension": ".py",
   "mimetype": "text/x-python",
   "name": "python",
   "nbconvert_exporter": "python",
   "pygments_lexer": "ipython3",
   "version": "3.11.5"
  }
 },
 "nbformat": 4,
 "nbformat_minor": 5
}
